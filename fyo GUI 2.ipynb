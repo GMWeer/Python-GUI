{
 "cells": [
  {
   "cell_type": "code",
   "execution_count": 1,
   "metadata": {},
   "outputs": [],
   "source": [
    "from tkinter import *\n",
    "from tkinter.filedialog import askopenfilename\n",
    "#from tkinter import ttk\n",
    "import tkinter as tk\n",
    "root = Tk()\n",
    "root.geometry(\"500x300\")\n",
    "\n",
    "def getvals():\n",
    "    Label(root, text=\"Loading.....\",font=\"ar 15 bold\",fg ='blue').grid(row=9,column=1)\n",
    "    # put the outputs\n",
    "    \n",
    "    \n",
    "\n",
    "def import_csv_data():\n",
    "    global v\n",
    "    csv_file_path = askopenfilename()\n",
    "    print(csv_file_path)\n",
    "    v.set(csv_file_path)\n",
    "    #df = pd.read_csv(csv_file_path)\n",
    "\n",
    "\n",
    "Label(root, text=\"University of Moratuwa\",font=\"ar 15 bold\").grid(row=0,column=1)\n",
    "\n",
    "tk.Label(root, text='File Path').grid(row=1, column=0)\n",
    "v = tk.StringVar()\n",
    "entry = tk.Entry(root, textvariable=v).grid(row=1, column=1)\n",
    "tk.Button(root, text='Browse Data Set',command=import_csv_data).grid(row=1, column=2)\n",
    "tk.Button(root, text='Close',command=root.destroy).grid(row=2, column=1)\n",
    "\n",
    "\n",
    "name = Label(root, text =\"Line Section\")\n",
    "gender = Label(root, text =\"Number of Years\")\n",
    "\n",
    "\n",
    "\n",
    "name.grid(row=3,column=0)\n",
    "gender.grid(row=4,column=0)\n",
    "\n",
    "\n",
    "namevalue = IntVar\n",
    "gendervalue = IntVar\n",
    "\n",
    "\n",
    "\n",
    "nameentry=Entry(root, textvariable = namevalue)\n",
    "genderentry=Entry(root, textvariable = gendervalue)\n",
    "\n",
    "\n",
    "nameentry.grid(row=3, column=1)\n",
    "genderentry.grid(row=4, column=1)\n",
    "\n",
    "\n",
    "checkbtn = Checkbutton(text=\"Are the inputs correct ?\", variable = gendervalue)\n",
    "checkbtn.grid(row=6,column=1)\n",
    "\n",
    "\n",
    "Button(text=\"Submit\",command=getvals).grid(row=7,column=1)\n",
    "\n",
    "root.mainloop()"
   ]
  },
  {
   "cell_type": "code",
   "execution_count": null,
   "metadata": {},
   "outputs": [],
   "source": []
  }
 ],
 "metadata": {
  "kernelspec": {
   "display_name": "Python 3",
   "language": "python",
   "name": "python3"
  },
  "language_info": {
   "codemirror_mode": {
    "name": "ipython",
    "version": 3
   },
   "file_extension": ".py",
   "mimetype": "text/x-python",
   "name": "python",
   "nbconvert_exporter": "python",
   "pygments_lexer": "ipython3",
   "version": "3.8.5"
  }
 },
 "nbformat": 4,
 "nbformat_minor": 4
}
